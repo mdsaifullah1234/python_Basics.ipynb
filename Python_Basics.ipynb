{
 "cells": [
  {
   "attachments": {},
   "cell_type": "markdown",
   "metadata": {},
   "source": [
    "Q1. Write all the conventions being followed while declaring a variable.\n",
    "\n",
    "Ans:- Variable names should be descriptive and meaningful, giving an idea of what the variable represents.\n",
    "Variable names should start with a lowercase letter, and should not start with a number or contain spaces.\n",
    "If the variable name contains multiple words, use an underscore (_) to separate them. For example, \"my_variable\" instead of \"myVariable\".\n",
    "It is recommended to use all lowercase letters when naming variables.\n",
    "Avoid using reserved keywords as variable names. For example, \"if\" or \"else\" should not be used as variable names.\n",
    "Constants should be written in all capital letters. For example, \"MAX_VALUE\" instead of \"max_value\".\n",
    "When declaring a variable, it is not necessary to specify its data type explicitly, as Python is dynamically typed. However, it is good practice to use a meaningful name and initialize the variable to a sensible value."
   ]
  },
  {
   "attachments": {},
   "cell_type": "markdown",
   "metadata": {},
   "source": [
    "Q2. What will happen if we declare a restricted keyword as a variable?\n",
    "\n",
    "Ans: if you declare a variable with a restricted keyword as its name, you will get a syntax error. Restricted keywords are reserved by the language and have specific meanings and uses within the Python syntax."
   ]
  },
  {
   "attachments": {},
   "cell_type": "markdown",
   "metadata": {},
   "source": [
    "Q3. Can we actually declare a string as a variable name?\n",
    "\n",
    "Ans :  Yes, in Python, you can use a string as a variable name by enclosing it in quotes. This is known as a string variable or a string identifier."
   ]
  },
  {
   "attachments": {},
   "cell_type": "markdown",
   "metadata": {},
   "source": [
    "Q4. Is it possible for us to declare “_” as a variable? If so, then write an example of it.\n",
    "\n",
    "ANS : Yes, it is possible to declare \"_\" as a variable in Python. In fact, the underscore character is a valid identifier and can be used as a variable name. It is often used as a \"throwaway\" variable name when you need to assign a value to a variable that you don't intend to use later.\n",
    "\n",
    "Here is an example of declaring \"_\" as a variable and assigning a value to it:"
   ]
  },
  {
   "cell_type": "code",
   "execution_count": null,
   "metadata": {},
   "outputs": [],
   "source": [
    "_ = \"This variable won't be used later\"\n"
   ]
  },
  {
   "attachments": {},
   "cell_type": "markdown",
   "metadata": {},
   "source": [
    "In this example, we have declared a variable named \"_\" and assigned a string value to it. "
   ]
  },
  {
   "attachments": {},
   "cell_type": "markdown",
   "metadata": {},
   "source": [
    "Q5. Using an example, explain how the variables in python are dynamic in nature."
   ]
  },
  {
   "cell_type": "code",
   "execution_count": null,
   "metadata": {},
   "outputs": [],
   "source": [
    "my_variable = 42   # integer\n",
    "print(my_variable)\n",
    "\n",
    "my_variable = \"Hello, world!\"   # string\n",
    "print(my_variable)\n",
    "\n",
    "my_variable = [1, 2, 3]   # list\n",
    "print(my_variable)\n"
   ]
  },
  {
   "attachments": {},
   "cell_type": "markdown",
   "metadata": {},
   "source": [
    "In this example, we have declared a variable named \"my_variable\" and assigned an integer value of 42 to it. We then print the value of the variable using the print function.\n",
    "\n",
    "Next, we reassign the variable to a string value of \"Hello, world!\" and print it again. Since Python is dynamically typed, the variable is able to change its data type without any errors or issues.+"
   ]
  }
 ],
 "metadata": {
  "kernelspec": {
   "display_name": "Python 3",
   "language": "python",
   "name": "python3"
  },
  "language_info": {
   "codemirror_mode": {
    "name": "ipython",
    "version": 3
   },
   "file_extension": ".py",
   "mimetype": "text/x-python",
   "name": "python",
   "nbconvert_exporter": "python",
   "pygments_lexer": "ipython3",
   "version": "3.11.3"
  },
  "orig_nbformat": 4
 },
 "nbformat": 4,
 "nbformat_minor": 2
}
